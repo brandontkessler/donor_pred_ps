{
 "cells": [
  {
   "cell_type": "markdown",
   "metadata": {},
   "source": [
    "# Data Preprocessing"
   ]
  },
  {
   "cell_type": "markdown",
   "metadata": {},
   "source": [
    "The preprocessing phase will take x steps:\n",
    "\n",
    "1. Setup - import packages, setup paths\n",
    "2. Import Data - bring in the data\n",
    "3. Cleaning Data - aggregate data as necessary and make transformations as required"
   ]
  },
  {
   "cell_type": "markdown",
   "metadata": {},
   "source": [
    "## Setup\n",
    "\n",
    "---"
   ]
  },
  {
   "cell_type": "markdown",
   "metadata": {},
   "source": [
    "#### Imports"
   ]
  },
  {
   "cell_type": "code",
   "execution_count": 1,
   "metadata": {},
   "outputs": [],
   "source": [
    "import os\n",
    "import pandas as pd"
   ]
  },
  {
   "cell_type": "markdown",
   "metadata": {},
   "source": [
    "#### Paths"
   ]
  },
  {
   "cell_type": "code",
   "execution_count": 2,
   "metadata": {},
   "outputs": [],
   "source": [
    "path_proj = 'U:/projects/donor_pred/preprocessing'\n",
    "path_data = 'U:/data'"
   ]
  },
  {
   "cell_type": "markdown",
   "metadata": {},
   "source": [
    "#### Globals"
   ]
  },
  {
   "cell_type": "code",
   "execution_count": 15,
   "metadata": {},
   "outputs": [],
   "source": [
    "FY_START = 11\n",
    "FY_END = 19"
   ]
  },
  {
   "cell_type": "markdown",
   "metadata": {},
   "source": [
    "## Import Data\n",
    "---"
   ]
  },
  {
   "cell_type": "markdown",
   "metadata": {},
   "source": [
    "#### Files Needed"
   ]
  },
  {
   "cell_type": "code",
   "execution_count": 3,
   "metadata": {},
   "outputs": [],
   "source": [
    "d_files = 'donors_fy08-fy19.csv'\n",
    "t_files_fys = range(11, 20)\n",
    "t_files_series = ['Chamber', 'Clx', 'Connections', 'Family', 'Organ', 'Pops', 'Specials', 'Summer']"
   ]
  },
  {
   "cell_type": "code",
   "execution_count": 4,
   "metadata": {},
   "outputs": [],
   "source": [
    "t_files = [series + str(fy) + '.csv' for series in t_files_series for fy in t_files_fys]"
   ]
  },
  {
   "cell_type": "markdown",
   "metadata": {},
   "source": [
    "### Donor Data"
   ]
  },
  {
   "cell_type": "code",
   "execution_count": 5,
   "metadata": {},
   "outputs": [],
   "source": [
    "def donor_data_import(path_to_data_files, file):\n",
    "    donor_raw = pd.read_csv(path_to_data_files + '/donors/' + file, encoding='ISO-8859-1')\n",
    "    return donor_raw"
   ]
  },
  {
   "cell_type": "code",
   "execution_count": 6,
   "metadata": {},
   "outputs": [],
   "source": [
    "d_data = donor_data_import(path_data, d_files)"
   ]
  },
  {
   "cell_type": "code",
   "execution_count": 8,
   "metadata": {},
   "outputs": [],
   "source": [
    "donor_fy = d_data.campaign.str[3:8] # parse last 5 characters of campaign column\n",
    "d_data['fy'] = donor_fy # append that to a column named 'fy'"
   ]
  },
  {
   "cell_type": "markdown",
   "metadata": {},
   "source": [
    "Identify which 'fys' don't start with an integer, these we can remove. Also, identify the years that are outside of the range in question"
   ]
  },
  {
   "cell_type": "code",
   "execution_count": 16,
   "metadata": {},
   "outputs": [],
   "source": [
    "filter_fys = {fy: False for fy in d_data.fy.drop_duplicates()}\n",
    "for fy,boo in filter_fys.items():\n",
    "    try:\n",
    "        int(fy[0])\n",
    "        if (int(fy[3:]) > FY_START) & (int(fy[3:]) < FY_END+1):\n",
    "            filter_fys[fy] = True\n",
    "        else:\n",
    "            continue\n",
    "    except:\n",
    "        continue"
   ]
  },
  {
   "cell_type": "markdown",
   "metadata": {},
   "source": [
    "Map the fy column to identify rows to remove then remove them"
   ]
  },
  {
   "cell_type": "code",
   "execution_count": 17,
   "metadata": {},
   "outputs": [],
   "source": [
    "d_data['keep'] = d_data['fy'].map(filter_fys)\n",
    "donor_df = d_data.loc[d_data.keep].reset_index()\n",
    "donor_df.drop(columns=['keep'], inplace=True)"
   ]
  },
  {
   "cell_type": "markdown",
   "metadata": {},
   "source": [
    "Remove unnecessary columns"
   ]
  },
  {
   "cell_type": "code",
   "execution_count": 21,
   "metadata": {},
   "outputs": [],
   "source": [
    "donor_cols = ['summary_cust_id', 'customer_no', 'gift_plus_pledge', 'cont_dt', 'fy']\n",
    "donor_df = donor_df[donor_cols]"
   ]
  },
  {
   "cell_type": "code",
   "execution_count": 22,
   "metadata": {},
   "outputs": [
    {
     "data": {
      "text/html": [
       "<div>\n",
       "<style scoped>\n",
       "    .dataframe tbody tr th:only-of-type {\n",
       "        vertical-align: middle;\n",
       "    }\n",
       "\n",
       "    .dataframe tbody tr th {\n",
       "        vertical-align: top;\n",
       "    }\n",
       "\n",
       "    .dataframe thead th {\n",
       "        text-align: right;\n",
       "    }\n",
       "</style>\n",
       "<table border=\"1\" class=\"dataframe\">\n",
       "  <thead>\n",
       "    <tr style=\"text-align: right;\">\n",
       "      <th></th>\n",
       "      <th>summary_cust_id</th>\n",
       "      <th>customer_no</th>\n",
       "      <th>gift_plus_pledge</th>\n",
       "      <th>cont_dt</th>\n",
       "      <th>fy</th>\n",
       "    </tr>\n",
       "  </thead>\n",
       "  <tbody>\n",
       "    <tr>\n",
       "      <th>0</th>\n",
       "      <td>179338</td>\n",
       "      <td>179338</td>\n",
       "      <td>1000.0</td>\n",
       "      <td>10/14/2013 00:00:00</td>\n",
       "      <td>13-14</td>\n",
       "    </tr>\n",
       "    <tr>\n",
       "      <th>1</th>\n",
       "      <td>179338</td>\n",
       "      <td>179338</td>\n",
       "      <td>-1000.0</td>\n",
       "      <td>10/14/2013 00:00:00</td>\n",
       "      <td>13-14</td>\n",
       "    </tr>\n",
       "    <tr>\n",
       "      <th>2</th>\n",
       "      <td>2441428</td>\n",
       "      <td>2441428</td>\n",
       "      <td>-1000.0</td>\n",
       "      <td>10/15/2013 00:00:00</td>\n",
       "      <td>13-14</td>\n",
       "    </tr>\n",
       "    <tr>\n",
       "      <th>3</th>\n",
       "      <td>2441428</td>\n",
       "      <td>2441428</td>\n",
       "      <td>1000.0</td>\n",
       "      <td>10/15/2013 00:00:00</td>\n",
       "      <td>13-14</td>\n",
       "    </tr>\n",
       "    <tr>\n",
       "      <th>4</th>\n",
       "      <td>2579172</td>\n",
       "      <td>2579172</td>\n",
       "      <td>-1000.0</td>\n",
       "      <td>10/14/2013 00:00:00</td>\n",
       "      <td>13-14</td>\n",
       "    </tr>\n",
       "  </tbody>\n",
       "</table>\n",
       "</div>"
      ],
      "text/plain": [
       "   summary_cust_id  customer_no  gift_plus_pledge              cont_dt     fy\n",
       "0           179338       179338            1000.0  10/14/2013 00:00:00  13-14\n",
       "1           179338       179338           -1000.0  10/14/2013 00:00:00  13-14\n",
       "2          2441428      2441428           -1000.0  10/15/2013 00:00:00  13-14\n",
       "3          2441428      2441428            1000.0  10/15/2013 00:00:00  13-14\n",
       "4          2579172      2579172           -1000.0  10/14/2013 00:00:00  13-14"
      ]
     },
     "execution_count": 22,
     "metadata": {},
     "output_type": "execute_result"
    }
   ],
   "source": [
    "donor_df.head()"
   ]
  },
  {
   "cell_type": "markdown",
   "metadata": {},
   "source": [
    "Strip FY to only include the last two digits of fiscal year"
   ]
  },
  {
   "cell_type": "code",
   "execution_count": 23,
   "metadata": {},
   "outputs": [],
   "source": [
    "donor_df['fy'] = donor_df['fy'].str[3:]"
   ]
  },
  {
   "cell_type": "markdown",
   "metadata": {},
   "source": [
    "### Ticketing Data"
   ]
  },
  {
   "cell_type": "code",
   "execution_count": 48,
   "metadata": {},
   "outputs": [],
   "source": [
    "dtypes = {\n",
    "    'section': str,\n",
    "    'summary_cust_name': str\n",
    "}"
   ]
  },
  {
   "cell_type": "code",
   "execution_count": 49,
   "metadata": {},
   "outputs": [],
   "source": [
    "def ticketing_data_import(path_to_data_files, filename, dtypes=dtypes):\n",
    "    df = pd.read_csv(path_data + '/ticketing/' + filename, skiprows=3, dtype=dtypes)\n",
    "    return df"
   ]
  },
  {
   "cell_type": "code",
   "execution_count": 50,
   "metadata": {},
   "outputs": [],
   "source": [
    "t_data = pd.concat([ticketing_data_import(path_data, file) for file in t_files])"
   ]
  },
  {
   "cell_type": "code",
   "execution_count": null,
   "metadata": {},
   "outputs": [],
   "source": []
  }
 ],
 "metadata": {
  "kernelspec": {
   "display_name": "Python 3",
   "language": "python",
   "name": "python3"
  },
  "language_info": {
   "codemirror_mode": {
    "name": "ipython",
    "version": 3
   },
   "file_extension": ".py",
   "mimetype": "text/x-python",
   "name": "python",
   "nbconvert_exporter": "python",
   "pygments_lexer": "ipython3",
   "version": "3.7.3"
  }
 },
 "nbformat": 4,
 "nbformat_minor": 2
}
