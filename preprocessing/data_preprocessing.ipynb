{
 "cells": [
  {
   "cell_type": "markdown",
   "metadata": {},
   "source": [
    "# Data Preprocessing"
   ]
  },
  {
   "cell_type": "markdown",
   "metadata": {},
   "source": [
    "The preprocessing phase will take x steps:\n",
    "\n",
    "1. Setup - import packages, setup paths\n",
    "2. Import Data - bring in the data\n",
    "3. Cleaning Data - aggregate data as necessary and make transformations as required"
   ]
  },
  {
   "cell_type": "markdown",
   "metadata": {},
   "source": [
    "## Setup\n",
    "\n",
    "---"
   ]
  },
  {
   "cell_type": "code",
   "execution_count": 1,
   "metadata": {},
   "outputs": [
    {
     "name": "stdout",
     "output_type": "stream",
     "text": [
      "Once deleted, variables cannot be recovered. Proceed (y/[n])? y\n"
     ]
    }
   ],
   "source": [
    "%reset"
   ]
  },
  {
   "cell_type": "markdown",
   "metadata": {},
   "source": [
    "#### Imports"
   ]
  },
  {
   "cell_type": "code",
   "execution_count": 458,
   "metadata": {},
   "outputs": [],
   "source": [
    "import os\n",
    "import pandas as pd\n",
    "import numpy as np\n",
    "from sklearn.impute import SimpleImputer\n",
    "from sklearn.model_selection import train_test_split\n",
    "from sklearn.linear_model import LinearRegression\n",
    "from sklearn.preprocessing import StandardScaler\n",
    "\n",
    "import statsmodels.api as sm"
   ]
  },
  {
   "cell_type": "markdown",
   "metadata": {},
   "source": [
    "#### Paths"
   ]
  },
  {
   "cell_type": "code",
   "execution_count": 3,
   "metadata": {},
   "outputs": [],
   "source": [
    "path_proj = 'U:/projects/donor_pred/preprocessing'\n",
    "path_data = 'U:/data'"
   ]
  },
  {
   "cell_type": "markdown",
   "metadata": {},
   "source": [
    "#### Globals"
   ]
  },
  {
   "cell_type": "code",
   "execution_count": 4,
   "metadata": {},
   "outputs": [],
   "source": [
    "FY_START = 11\n",
    "FY_END = 19"
   ]
  },
  {
   "cell_type": "markdown",
   "metadata": {},
   "source": [
    "## Import Data\n",
    "---"
   ]
  },
  {
   "cell_type": "markdown",
   "metadata": {},
   "source": [
    "#### Files Needed"
   ]
  },
  {
   "cell_type": "code",
   "execution_count": 5,
   "metadata": {},
   "outputs": [],
   "source": [
    "d_files = 'donors_fy08-present.csv'\n",
    "t_files_fys = range(11, 20)\n",
    "t_files_series = ['Chamber', 'Clx', 'Connections', 'Family', \n",
    "                  'Organ', 'Pops', 'Specials', 'Summer']\n",
    "a_file_names = ['age', 'est_hh_income', 'len_of_residence', 'propensity_rating']"
   ]
  },
  {
   "cell_type": "code",
   "execution_count": 39,
   "metadata": {},
   "outputs": [],
   "source": [
    "t_files = [series + str(fy) + '.csv' for series in t_files_series for fy in t_files_fys]\n",
    "a_files = [name for name in a_file_names]"
   ]
  },
  {
   "cell_type": "markdown",
   "metadata": {},
   "source": [
    "### Donor Data"
   ]
  },
  {
   "cell_type": "code",
   "execution_count": 7,
   "metadata": {},
   "outputs": [],
   "source": [
    "def donor_data_import(path_to_data_files, file):\n",
    "    donor_raw = pd.read_csv(path_to_data_files + '/donors/' + file, encoding='ISO-8859-1')\n",
    "    return donor_raw"
   ]
  },
  {
   "cell_type": "code",
   "execution_count": 8,
   "metadata": {},
   "outputs": [
    {
     "name": "stderr",
     "output_type": "stream",
     "text": [
      "C:\\Users\\bkessler\\AppData\\Local\\Continuum\\anaconda3\\lib\\site-packages\\IPython\\core\\interactiveshell.py:3214: DtypeWarning: Columns (81,82) have mixed types. Specify dtype option on import or set low_memory=False.\n",
      "  if (yield from self.run_code(code, result)):\n"
     ]
    }
   ],
   "source": [
    "d_data = donor_data_import(path_data, d_files)"
   ]
  },
  {
   "cell_type": "code",
   "execution_count": 9,
   "metadata": {},
   "outputs": [],
   "source": [
    "donor_fy = d_data.campaign.str[3:8] # parse last 5 characters of campaign column\n",
    "d_data['fy'] = donor_fy # append that to a column named 'fy'"
   ]
  },
  {
   "cell_type": "markdown",
   "metadata": {},
   "source": [
    "Identify which 'fys' don't start with an integer, these we can remove. Also, identify the years that are outside of the range in question"
   ]
  },
  {
   "cell_type": "code",
   "execution_count": 10,
   "metadata": {},
   "outputs": [],
   "source": [
    "filter_fys = {fy: False for fy in d_data.fy.drop_duplicates()}\n",
    "for fy,boo in filter_fys.items():\n",
    "    try:\n",
    "        int(fy[0])\n",
    "        if (int(fy[3:]) > FY_START) & (int(fy[3:]) < FY_END+1):\n",
    "            filter_fys[fy] = True\n",
    "        else:\n",
    "            continue\n",
    "    except:\n",
    "        continue"
   ]
  },
  {
   "cell_type": "markdown",
   "metadata": {},
   "source": [
    "Map the fy column to identify rows to remove then remove them"
   ]
  },
  {
   "cell_type": "code",
   "execution_count": 11,
   "metadata": {},
   "outputs": [],
   "source": [
    "d_data['keep'] = d_data['fy'].map(filter_fys)\n",
    "donor_df = d_data.loc[d_data.keep].reset_index()\n",
    "donor_df.drop(columns=['keep'], inplace=True)"
   ]
  },
  {
   "cell_type": "markdown",
   "metadata": {},
   "source": [
    "Convert dates to datetime"
   ]
  },
  {
   "cell_type": "code",
   "execution_count": 12,
   "metadata": {},
   "outputs": [],
   "source": [
    "donor_df['cont_dt'] = pd.to_datetime(donor_df['cont_dt'])"
   ]
  },
  {
   "cell_type": "markdown",
   "metadata": {},
   "source": [
    "Remove unnecessary columns"
   ]
  },
  {
   "cell_type": "code",
   "execution_count": 13,
   "metadata": {},
   "outputs": [],
   "source": [
    "donor_cols = ['summary_cust_id', 'customer_no', 'gift_plus_pledge', 'cont_dt', 'fy', 'ps_sol', 'sum_ps_sol']\n",
    "donor_df = donor_df[donor_cols]"
   ]
  },
  {
   "cell_type": "code",
   "execution_count": 14,
   "metadata": {},
   "outputs": [
    {
     "data": {
      "text/html": [
       "<div>\n",
       "<style scoped>\n",
       "    .dataframe tbody tr th:only-of-type {\n",
       "        vertical-align: middle;\n",
       "    }\n",
       "\n",
       "    .dataframe tbody tr th {\n",
       "        vertical-align: top;\n",
       "    }\n",
       "\n",
       "    .dataframe thead th {\n",
       "        text-align: right;\n",
       "    }\n",
       "</style>\n",
       "<table border=\"1\" class=\"dataframe\">\n",
       "  <thead>\n",
       "    <tr style=\"text-align: right;\">\n",
       "      <th></th>\n",
       "      <th>summary_cust_id</th>\n",
       "      <th>customer_no</th>\n",
       "      <th>gift_plus_pledge</th>\n",
       "      <th>cont_dt</th>\n",
       "      <th>fy</th>\n",
       "      <th>ps_sol</th>\n",
       "      <th>sum_ps_sol</th>\n",
       "    </tr>\n",
       "  </thead>\n",
       "  <tbody>\n",
       "    <tr>\n",
       "      <th>13891</th>\n",
       "      <td>2454548</td>\n",
       "      <td>2454548</td>\n",
       "      <td>2000.0</td>\n",
       "      <td>2014-05-02</td>\n",
       "      <td>13-14</td>\n",
       "      <td>Michael Lawler</td>\n",
       "      <td>Michael Lawler</td>\n",
       "    </tr>\n",
       "    <tr>\n",
       "      <th>46204</th>\n",
       "      <td>153459</td>\n",
       "      <td>2857736</td>\n",
       "      <td>0.0</td>\n",
       "      <td>2016-02-16</td>\n",
       "      <td>18-19</td>\n",
       "      <td>Gary Good</td>\n",
       "      <td>Gary Good</td>\n",
       "    </tr>\n",
       "    <tr>\n",
       "      <th>29610</th>\n",
       "      <td>3212346</td>\n",
       "      <td>3212346</td>\n",
       "      <td>50.0</td>\n",
       "      <td>2016-03-14</td>\n",
       "      <td>15-16</td>\n",
       "      <td>NaN</td>\n",
       "      <td>NaN</td>\n",
       "    </tr>\n",
       "    <tr>\n",
       "      <th>30050</th>\n",
       "      <td>2750149</td>\n",
       "      <td>2750149</td>\n",
       "      <td>100.0</td>\n",
       "      <td>2015-12-10</td>\n",
       "      <td>15-16</td>\n",
       "      <td>NaN</td>\n",
       "      <td>NaN</td>\n",
       "    </tr>\n",
       "    <tr>\n",
       "      <th>19733</th>\n",
       "      <td>380818</td>\n",
       "      <td>380818</td>\n",
       "      <td>250.0</td>\n",
       "      <td>2014-10-01</td>\n",
       "      <td>14-15</td>\n",
       "      <td>Hilary Zappin</td>\n",
       "      <td>Hilary Zappin</td>\n",
       "    </tr>\n",
       "    <tr>\n",
       "      <th>47432</th>\n",
       "      <td>114765</td>\n",
       "      <td>114765</td>\n",
       "      <td>50.0</td>\n",
       "      <td>2019-03-14</td>\n",
       "      <td>18-19</td>\n",
       "      <td>Default Solicitor</td>\n",
       "      <td>Default Solicitor</td>\n",
       "    </tr>\n",
       "    <tr>\n",
       "      <th>48031</th>\n",
       "      <td>110806</td>\n",
       "      <td>110806</td>\n",
       "      <td>15.0</td>\n",
       "      <td>2019-02-01</td>\n",
       "      <td>18-19</td>\n",
       "      <td>Default Solicitor</td>\n",
       "      <td>Default Solicitor</td>\n",
       "    </tr>\n",
       "    <tr>\n",
       "      <th>15991</th>\n",
       "      <td>2853230</td>\n",
       "      <td>2853230</td>\n",
       "      <td>-312.5</td>\n",
       "      <td>2013-10-21</td>\n",
       "      <td>13-14</td>\n",
       "      <td>Michael Lawler</td>\n",
       "      <td>Michael Lawler</td>\n",
       "    </tr>\n",
       "    <tr>\n",
       "      <th>44823</th>\n",
       "      <td>2411501</td>\n",
       "      <td>2411501</td>\n",
       "      <td>0.0</td>\n",
       "      <td>2018-06-11</td>\n",
       "      <td>17-18</td>\n",
       "      <td>Nikki Palley</td>\n",
       "      <td>Nikki Palley</td>\n",
       "    </tr>\n",
       "    <tr>\n",
       "      <th>16065</th>\n",
       "      <td>3082944</td>\n",
       "      <td>3082944</td>\n",
       "      <td>25.0</td>\n",
       "      <td>2013-12-28</td>\n",
       "      <td>13-14</td>\n",
       "      <td>NaN</td>\n",
       "      <td>NaN</td>\n",
       "    </tr>\n",
       "  </tbody>\n",
       "</table>\n",
       "</div>"
      ],
      "text/plain": [
       "       summary_cust_id  customer_no  gift_plus_pledge    cont_dt     fy  \\\n",
       "13891          2454548      2454548            2000.0 2014-05-02  13-14   \n",
       "46204           153459      2857736               0.0 2016-02-16  18-19   \n",
       "29610          3212346      3212346              50.0 2016-03-14  15-16   \n",
       "30050          2750149      2750149             100.0 2015-12-10  15-16   \n",
       "19733           380818       380818             250.0 2014-10-01  14-15   \n",
       "47432           114765       114765              50.0 2019-03-14  18-19   \n",
       "48031           110806       110806              15.0 2019-02-01  18-19   \n",
       "15991          2853230      2853230            -312.5 2013-10-21  13-14   \n",
       "44823          2411501      2411501               0.0 2018-06-11  17-18   \n",
       "16065          3082944      3082944              25.0 2013-12-28  13-14   \n",
       "\n",
       "                  ps_sol         sum_ps_sol  \n",
       "13891     Michael Lawler     Michael Lawler  \n",
       "46204          Gary Good          Gary Good  \n",
       "29610                NaN                NaN  \n",
       "30050                NaN                NaN  \n",
       "19733      Hilary Zappin      Hilary Zappin  \n",
       "47432  Default Solicitor  Default Solicitor  \n",
       "48031  Default Solicitor  Default Solicitor  \n",
       "15991     Michael Lawler     Michael Lawler  \n",
       "44823       Nikki Palley       Nikki Palley  \n",
       "16065                NaN                NaN  "
      ]
     },
     "execution_count": 14,
     "metadata": {},
     "output_type": "execute_result"
    }
   ],
   "source": [
    "donor_df.sample(10)"
   ]
  },
  {
   "cell_type": "markdown",
   "metadata": {},
   "source": [
    "Strip FY to only include the last two digits of fiscal year"
   ]
  },
  {
   "cell_type": "code",
   "execution_count": 15,
   "metadata": {},
   "outputs": [],
   "source": [
    "donor_df['fy'] = donor_df['fy'].str[3:]"
   ]
  },
  {
   "cell_type": "markdown",
   "metadata": {},
   "source": [
    "#### Identify first Pledge\n",
    "\n",
    "(COMMENTED OUT FOR NOW)"
   ]
  },
  {
   "cell_type": "code",
   "execution_count": 16,
   "metadata": {},
   "outputs": [],
   "source": [
    "# first_donation = donor_df.groupby(['summary_cust_id', 'customer_no', 'cont_dt', 'fy']).sum().reset_index()"
   ]
  },
  {
   "cell_type": "code",
   "execution_count": 17,
   "metadata": {},
   "outputs": [],
   "source": [
    "# first_donation = first_donation.sort_values(by=['summary_cust_id', 'cont_dt']).drop_duplicates(subset=['summary_cust_id'], keep='first').reset_index(drop=True)"
   ]
  },
  {
   "cell_type": "code",
   "execution_count": 18,
   "metadata": {},
   "outputs": [],
   "source": [
    "# first_donation.head()"
   ]
  },
  {
   "cell_type": "markdown",
   "metadata": {},
   "source": [
    "#### Agg Donor info"
   ]
  },
  {
   "cell_type": "code",
   "execution_count": 294,
   "metadata": {},
   "outputs": [],
   "source": [
    "d_manip = donor_df.sort_values(['cont_dt'], ascending=False).groupby(['summary_cust_id']).agg({\n",
    "    'gift_plus_pledge': ['sum', 'mean'],\n",
    "    'ps_sol': [(lambda x: x.tail(1))],\n",
    "    'fy': ['count']\n",
    "}).reset_index()"
   ]
  },
  {
   "cell_type": "code",
   "execution_count": 295,
   "metadata": {},
   "outputs": [],
   "source": [
    "d_manip.columns = ['summary_cust_id', 'gift_plus_pledge_total', 'gift_plus_pledge_avg', 'ps_sol', 'years_of_giving']"
   ]
  },
  {
   "cell_type": "code",
   "execution_count": 296,
   "metadata": {},
   "outputs": [],
   "source": [
    "d_fin = d_manip.copy()"
   ]
  },
  {
   "cell_type": "code",
   "execution_count": 297,
   "metadata": {},
   "outputs": [],
   "source": [
    "d_fin['per_year_giving'] = d_fin['gift_plus_pledge_total'] / d_fin['years_of_giving']"
   ]
  },
  {
   "cell_type": "code",
   "execution_count": 298,
   "metadata": {},
   "outputs": [],
   "source": [
    "d_fin['solicitor'] = ~d_fin['ps_sol'].isna() * 1"
   ]
  },
  {
   "cell_type": "code",
   "execution_count": 299,
   "metadata": {},
   "outputs": [],
   "source": [
    "d_fin['donor'] = 1"
   ]
  },
  {
   "cell_type": "markdown",
   "metadata": {},
   "source": [
    "## Ticketing Data"
   ]
  },
  {
   "cell_type": "code",
   "execution_count": 20,
   "metadata": {},
   "outputs": [],
   "source": [
    "dtypes = {\n",
    "    'section': str,\n",
    "    'summary_cust_name': str\n",
    "}"
   ]
  },
  {
   "cell_type": "code",
   "execution_count": 21,
   "metadata": {},
   "outputs": [],
   "source": [
    "def ticketing_data_import(path_to_data_files, filename, dtype=dtypes):\n",
    "    df = pd.read_csv(path_data + '/ticketing/' + filename, skiprows=3, dtype=dtype)\n",
    "    return df"
   ]
  },
  {
   "cell_type": "code",
   "execution_count": 22,
   "metadata": {},
   "outputs": [
    {
     "name": "stderr",
     "output_type": "stream",
     "text": [
      "C:\\Users\\bkessler\\AppData\\Local\\Continuum\\anaconda3\\lib\\site-packages\\IPython\\core\\interactiveshell.py:3296: DtypeWarning: Columns (6,23) have mixed types. Specify dtype option on import or set low_memory=False.\n",
      "  exec(code_obj, self.user_global_ns, self.user_ns)\n"
     ]
    }
   ],
   "source": [
    "t_data = pd.concat([ticketing_data_import(path_data, file) for file in t_files])"
   ]
  },
  {
   "cell_type": "markdown",
   "metadata": {},
   "source": [
    "#### Keep Appropriate Columns in a new DF called t_manip"
   ]
  },
  {
   "cell_type": "code",
   "execution_count": 23,
   "metadata": {},
   "outputs": [],
   "source": [
    "t_cols = ['summary_cust_id', 'customer_no', 'perf_dt', \n",
    "          'paid_amt', 'price_type_group', 'season_desc', 'attended']"
   ]
  },
  {
   "cell_type": "code",
   "execution_count": 24,
   "metadata": {},
   "outputs": [],
   "source": [
    "t_manip = t_data[t_cols].dropna(subset=['summary_cust_id'])"
   ]
  },
  {
   "cell_type": "markdown",
   "metadata": {},
   "source": [
    "#### Remove Bad Ids"
   ]
  },
  {
   "cell_type": "code",
   "execution_count": 25,
   "metadata": {},
   "outputs": [],
   "source": [
    "bad_ids = [\n",
    "    0,                 # Unknown IDs\n",
    "    2700674,           # Terry Dwyer\n",
    "    955085,            # PSO Comps\n",
    "    3141490,           # Symphony Shop\n",
    "    91013,             # PSO Orchestra Members\n",
    "    118401,            # PSO Prez - JF\n",
    "    91006,             # PSO Artist Comps\n",
    "    3328612,           # Development Guest\n",
    "    925728,            # Kurt Mortenson (Internal)\n",
    "    2010347,           # Goldstar\\n\",\n",
    "    2437127,           # Lorraine Caukin (Internal)\n",
    "    2515897,           # Gregory Pierre Cox (internal)\n",
    "    3080718,           # Gary Good\n",
    "    91015,             # PSO Press\n",
    "    120696             # Carl St. Clair\n",
    "]"
   ]
  },
  {
   "cell_type": "code",
   "execution_count": 26,
   "metadata": {},
   "outputs": [],
   "source": [
    "t_manip = t_manip.loc[~t_manip['summary_cust_id'].isin(bad_ids)].reset_index(drop=True)"
   ]
  },
  {
   "cell_type": "markdown",
   "metadata": {},
   "source": [
    "#### Add a series column"
   ]
  },
  {
   "cell_type": "code",
   "execution_count": 27,
   "metadata": {},
   "outputs": [],
   "source": [
    "series = t_manip['season_desc'].str.split().str[-1]"
   ]
  },
  {
   "cell_type": "code",
   "execution_count": 28,
   "metadata": {},
   "outputs": [],
   "source": [
    "t_manip['series'] = series"
   ]
  },
  {
   "cell_type": "markdown",
   "metadata": {},
   "source": [
    "#### Add columns for Subscription, Flex, Single, Comp"
   ]
  },
  {
   "cell_type": "code",
   "execution_count": 29,
   "metadata": {},
   "outputs": [],
   "source": [
    "t_manip.loc[t_manip['price_type_group'] == 'Subscription', 'subs'] = 1\n",
    "t_manip.loc[(t_manip['price_type_group'] == 'Single ') | \n",
    "            (t_manip['price_type_group'] == 'Discount') | \n",
    "            (t_manip['price_type_group'] == 'Discount'), 'single'] = 1\n",
    "t_manip.loc[t_manip['price_type_group'] == 'Flex', 'flex'] = 1\n",
    "t_manip.loc[t_manip['price_type_group'] == 'Comp', 'comp'] = 1"
   ]
  },
  {
   "cell_type": "markdown",
   "metadata": {},
   "source": [
    "#### Add columns for Series Types (classics, pops, summer, family, specials, other)"
   ]
  },
  {
   "cell_type": "code",
   "execution_count": 30,
   "metadata": {},
   "outputs": [
    {
     "data": {
      "text/plain": [
       "Classics       408436\n",
       "Pops           240055\n",
       "Summer         227428\n",
       "Family         124303\n",
       "Specials        91917\n",
       "Connections     37272\n",
       "Organ           26577\n",
       "Chamber          6962\n",
       "Name: series, dtype: int64"
      ]
     },
     "execution_count": 30,
     "metadata": {},
     "output_type": "execute_result"
    }
   ],
   "source": [
    "t_manip.series.value_counts()"
   ]
  },
  {
   "cell_type": "code",
   "execution_count": 219,
   "metadata": {},
   "outputs": [],
   "source": [
    "t_manip.loc[t_manip['price_type_group'] == 'Classics', 'classics'] = 1\n",
    "t_manip.loc[t_manip['price_type_group'] == 'Pops', 'pops'] = 1\n",
    "t_manip.loc[t_manip['price_type_group'] == 'Summer', 'summer'] = 1\n",
    "t_manip.loc[t_manip['price_type_group'] == 'Family', 'family'] = 1\n",
    "t_manip.loc[t_manip['price_type_group'] == 'Specials', 'specials'] = 1\n",
    "t_manip.loc[~t_manip['price_type_group'].isin(\n",
    "    ['Classics', 'Pops', 'Summer', 'Family', 'Specials']\n",
    "), 'other'] = 1\n",
    "\n",
    "t_manip.loc[t_manip['attended'] == 'Attended', 'attend'] = 1\n",
    "t_manip['attend'].fillna(0, inplace=True)"
   ]
  },
  {
   "cell_type": "code",
   "execution_count": 220,
   "metadata": {},
   "outputs": [
    {
     "data": {
      "text/html": [
       "<div>\n",
       "<style scoped>\n",
       "    .dataframe tbody tr th:only-of-type {\n",
       "        vertical-align: middle;\n",
       "    }\n",
       "\n",
       "    .dataframe tbody tr th {\n",
       "        vertical-align: top;\n",
       "    }\n",
       "\n",
       "    .dataframe thead th {\n",
       "        text-align: right;\n",
       "    }\n",
       "</style>\n",
       "<table border=\"1\" class=\"dataframe\">\n",
       "  <thead>\n",
       "    <tr style=\"text-align: right;\">\n",
       "      <th></th>\n",
       "      <th>summary_cust_id</th>\n",
       "      <th>customer_no</th>\n",
       "      <th>perf_dt</th>\n",
       "      <th>paid_amt</th>\n",
       "      <th>price_type_group</th>\n",
       "      <th>season_desc</th>\n",
       "      <th>attended</th>\n",
       "      <th>series</th>\n",
       "      <th>subs</th>\n",
       "      <th>single</th>\n",
       "      <th>flex</th>\n",
       "      <th>comp</th>\n",
       "      <th>classics</th>\n",
       "      <th>pops</th>\n",
       "      <th>summer</th>\n",
       "      <th>family</th>\n",
       "      <th>specials</th>\n",
       "      <th>other</th>\n",
       "      <th>attend</th>\n",
       "    </tr>\n",
       "  </thead>\n",
       "  <tbody>\n",
       "    <tr>\n",
       "      <th>0</th>\n",
       "      <td>12170.0</td>\n",
       "      <td>12170.0</td>\n",
       "      <td>10/31/2010 3:00:00 PM</td>\n",
       "      <td>51.0</td>\n",
       "      <td>Subscription</td>\n",
       "      <td>PS 10-11 Chamber</td>\n",
       "      <td>Attended</td>\n",
       "      <td>Chamber</td>\n",
       "      <td>1.0</td>\n",
       "      <td>NaN</td>\n",
       "      <td>NaN</td>\n",
       "      <td>NaN</td>\n",
       "      <td>NaN</td>\n",
       "      <td>NaN</td>\n",
       "      <td>NaN</td>\n",
       "      <td>NaN</td>\n",
       "      <td>NaN</td>\n",
       "      <td>1.0</td>\n",
       "      <td>1.0</td>\n",
       "    </tr>\n",
       "    <tr>\n",
       "      <th>1</th>\n",
       "      <td>12170.0</td>\n",
       "      <td>12170.0</td>\n",
       "      <td>10/31/2010 3:00:00 PM</td>\n",
       "      <td>51.0</td>\n",
       "      <td>Subscription</td>\n",
       "      <td>PS 10-11 Chamber</td>\n",
       "      <td>Attended</td>\n",
       "      <td>Chamber</td>\n",
       "      <td>1.0</td>\n",
       "      <td>NaN</td>\n",
       "      <td>NaN</td>\n",
       "      <td>NaN</td>\n",
       "      <td>NaN</td>\n",
       "      <td>NaN</td>\n",
       "      <td>NaN</td>\n",
       "      <td>NaN</td>\n",
       "      <td>NaN</td>\n",
       "      <td>1.0</td>\n",
       "      <td>1.0</td>\n",
       "    </tr>\n",
       "    <tr>\n",
       "      <th>2</th>\n",
       "      <td>22883.0</td>\n",
       "      <td>22883.0</td>\n",
       "      <td>10/31/2010 3:00:00 PM</td>\n",
       "      <td>66.0</td>\n",
       "      <td>Subscription</td>\n",
       "      <td>PS 10-11 Chamber</td>\n",
       "      <td>NaN</td>\n",
       "      <td>Chamber</td>\n",
       "      <td>1.0</td>\n",
       "      <td>NaN</td>\n",
       "      <td>NaN</td>\n",
       "      <td>NaN</td>\n",
       "      <td>NaN</td>\n",
       "      <td>NaN</td>\n",
       "      <td>NaN</td>\n",
       "      <td>NaN</td>\n",
       "      <td>NaN</td>\n",
       "      <td>1.0</td>\n",
       "      <td>0.0</td>\n",
       "    </tr>\n",
       "    <tr>\n",
       "      <th>3</th>\n",
       "      <td>22883.0</td>\n",
       "      <td>22883.0</td>\n",
       "      <td>10/31/2010 3:00:00 PM</td>\n",
       "      <td>66.0</td>\n",
       "      <td>Subscription</td>\n",
       "      <td>PS 10-11 Chamber</td>\n",
       "      <td>NaN</td>\n",
       "      <td>Chamber</td>\n",
       "      <td>1.0</td>\n",
       "      <td>NaN</td>\n",
       "      <td>NaN</td>\n",
       "      <td>NaN</td>\n",
       "      <td>NaN</td>\n",
       "      <td>NaN</td>\n",
       "      <td>NaN</td>\n",
       "      <td>NaN</td>\n",
       "      <td>NaN</td>\n",
       "      <td>1.0</td>\n",
       "      <td>0.0</td>\n",
       "    </tr>\n",
       "    <tr>\n",
       "      <th>4</th>\n",
       "      <td>22883.0</td>\n",
       "      <td>22883.0</td>\n",
       "      <td>10/31/2010 3:00:00 PM</td>\n",
       "      <td>66.0</td>\n",
       "      <td>Subscription</td>\n",
       "      <td>PS 10-11 Chamber</td>\n",
       "      <td>NaN</td>\n",
       "      <td>Chamber</td>\n",
       "      <td>1.0</td>\n",
       "      <td>NaN</td>\n",
       "      <td>NaN</td>\n",
       "      <td>NaN</td>\n",
       "      <td>NaN</td>\n",
       "      <td>NaN</td>\n",
       "      <td>NaN</td>\n",
       "      <td>NaN</td>\n",
       "      <td>NaN</td>\n",
       "      <td>1.0</td>\n",
       "      <td>0.0</td>\n",
       "    </tr>\n",
       "  </tbody>\n",
       "</table>\n",
       "</div>"
      ],
      "text/plain": [
       "   summary_cust_id  customer_no                perf_dt  paid_amt  \\\n",
       "0          12170.0      12170.0  10/31/2010 3:00:00 PM      51.0   \n",
       "1          12170.0      12170.0  10/31/2010 3:00:00 PM      51.0   \n",
       "2          22883.0      22883.0  10/31/2010 3:00:00 PM      66.0   \n",
       "3          22883.0      22883.0  10/31/2010 3:00:00 PM      66.0   \n",
       "4          22883.0      22883.0  10/31/2010 3:00:00 PM      66.0   \n",
       "\n",
       "  price_type_group       season_desc  attended   series  subs  single  flex  \\\n",
       "0     Subscription  PS 10-11 Chamber  Attended  Chamber   1.0     NaN   NaN   \n",
       "1     Subscription  PS 10-11 Chamber  Attended  Chamber   1.0     NaN   NaN   \n",
       "2     Subscription  PS 10-11 Chamber       NaN  Chamber   1.0     NaN   NaN   \n",
       "3     Subscription  PS 10-11 Chamber       NaN  Chamber   1.0     NaN   NaN   \n",
       "4     Subscription  PS 10-11 Chamber       NaN  Chamber   1.0     NaN   NaN   \n",
       "\n",
       "   comp  classics  pops  summer  family  specials  other  attend  \n",
       "0   NaN       NaN   NaN     NaN     NaN       NaN    1.0     1.0  \n",
       "1   NaN       NaN   NaN     NaN     NaN       NaN    1.0     1.0  \n",
       "2   NaN       NaN   NaN     NaN     NaN       NaN    1.0     0.0  \n",
       "3   NaN       NaN   NaN     NaN     NaN       NaN    1.0     0.0  \n",
       "4   NaN       NaN   NaN     NaN     NaN       NaN    1.0     0.0  "
      ]
     },
     "execution_count": 220,
     "metadata": {},
     "output_type": "execute_result"
    }
   ],
   "source": [
    "t_manip.head()"
   ]
  },
  {
   "cell_type": "code",
   "execution_count": 245,
   "metadata": {},
   "outputs": [],
   "source": [
    "t_fin = t_manip.groupby(['summary_cust_id', 'customer_no']).agg({\n",
    "    'paid_amt': ['sum'],\n",
    "    'attend': ['sum', 'count'],\n",
    "    'subs': ['sum'],\n",
    "    'single': ['sum'],\n",
    "    'flex': ['sum'],\n",
    "    'comp': ['sum'],\n",
    "    'classics': ['sum'],\n",
    "    'pops': ['sum'],\n",
    "    'summer': ['sum'],\n",
    "    'family': ['sum'],\n",
    "    'specials': ['sum'],\n",
    "    'other': ['sum']\n",
    "}).reset_index()"
   ]
  },
  {
   "cell_type": "code",
   "execution_count": 246,
   "metadata": {},
   "outputs": [],
   "source": [
    "t_fin[('paid_amt', 'true_mean')] = t_fin[('paid_amt', 'sum')] / (t_fin[('attend', 'count')] - t_fin[('comp', 'sum')])"
   ]
  },
  {
   "cell_type": "code",
   "execution_count": 247,
   "metadata": {},
   "outputs": [],
   "source": [
    "t_fin.columns = ['summary_cust_id', 'customer_no', 'tot_paid', 'attended', 'tickets', 'subs',\n",
    "                'single', 'flex', 'comp', 'classics', 'pops', 'summer', 'family', 'specials',\n",
    "                'other', 'avg_paid']"
   ]
  },
  {
   "cell_type": "code",
   "execution_count": 248,
   "metadata": {},
   "outputs": [],
   "source": [
    "t_fin = t_fin[['summary_cust_id', 'customer_no', 'attended', 'tickets', 'subs',\n",
    "                'single', 'flex', 'comp', 'classics', 'pops', 'summer', 'family', 'specials',\n",
    "                'other', 'avg_paid']]"
   ]
  },
  {
   "cell_type": "markdown",
   "metadata": {},
   "source": [
    "## Attributes"
   ]
  },
  {
   "cell_type": "code",
   "execution_count": 47,
   "metadata": {},
   "outputs": [],
   "source": [
    "def attribute_data_import(path_to_data_files, filenames, pull_date):\n",
    "    main = pd.read_csv(path_data + '/attributes/' + filenames[0] + '_' + pull_date + '.csv',\n",
    "                      skiprows=7)\n",
    "    main = main[['customer_no']].drop_duplicates()\n",
    "    \n",
    "    \n",
    "    for filename in filenames:\n",
    "        df = pd.read_csv(path_data + '/attributes/' + filename + '_' + pull_date + '.csv', \n",
    "                         skiprows=7)\n",
    "        df = df[['customer_no', 'key_value']]\n",
    "        df.rename(columns={\"customer_no\": \"customer_no\", \"key_value\": filename}, inplace=True)\n",
    "    \n",
    "        main = main.merge(df, on='customer_no', how='left')\n",
    "    return main"
   ]
  },
  {
   "cell_type": "code",
   "execution_count": 177,
   "metadata": {},
   "outputs": [],
   "source": [
    "a_data = attribute_data_import(path_data, a_files, '8-21-19')"
   ]
  },
  {
   "cell_type": "code",
   "execution_count": 193,
   "metadata": {},
   "outputs": [],
   "source": [
    "a_manip = a_data.dropna(subset=['est_hh_income']).reset_index(drop=True)"
   ]
  },
  {
   "cell_type": "markdown",
   "metadata": {},
   "source": [
    "#### Use Imputer to fill missing vals"
   ]
  },
  {
   "cell_type": "markdown",
   "metadata": {},
   "source": [
    "Starting with age - \n",
    "* create imputer with missing values = 0\n",
    "* for the imputer to the pandas dataframe with age as the only column\n",
    "* create a new column and set the age imputed to that column"
   ]
  },
  {
   "cell_type": "code",
   "execution_count": 194,
   "metadata": {},
   "outputs": [],
   "source": [
    "age_imp = SimpleImputer(missing_values=0, strategy='mean')"
   ]
  },
  {
   "cell_type": "code",
   "execution_count": 195,
   "metadata": {},
   "outputs": [],
   "source": [
    "age_imputed = age_imp.fit_transform(a_manip[['age']])"
   ]
  },
  {
   "cell_type": "code",
   "execution_count": 196,
   "metadata": {},
   "outputs": [],
   "source": [
    "a_manip['age_imp'] = age_imputed"
   ]
  },
  {
   "cell_type": "markdown",
   "metadata": {},
   "source": [
    "Then do length of residence"
   ]
  },
  {
   "cell_type": "code",
   "execution_count": 197,
   "metadata": {},
   "outputs": [],
   "source": [
    "a_manip['len_of_residence'].fillna(' ', inplace=True)"
   ]
  },
  {
   "cell_type": "code",
   "execution_count": 200,
   "metadata": {},
   "outputs": [],
   "source": [
    "residence_imp = SimpleImputer(missing_values=' ', strategy='most_frequent')"
   ]
  },
  {
   "cell_type": "code",
   "execution_count": 201,
   "metadata": {},
   "outputs": [],
   "source": [
    "residence_imputed = residence_imp.fit_transform(a_manip[['len_of_residence']])"
   ]
  },
  {
   "cell_type": "code",
   "execution_count": 202,
   "metadata": {},
   "outputs": [],
   "source": [
    "a_manip['len_residence_imp'] = residence_imputed"
   ]
  },
  {
   "cell_type": "markdown",
   "metadata": {},
   "source": [
    "Check if there are any NAs remaining"
   ]
  },
  {
   "cell_type": "code",
   "execution_count": 338,
   "metadata": {},
   "outputs": [],
   "source": [
    "a_manip = a_manip[['customer_no', 'est_hh_income', 'age_imp', 'len_residence_imp']]"
   ]
  },
  {
   "cell_type": "code",
   "execution_count": 339,
   "metadata": {},
   "outputs": [
    {
     "data": {
      "text/plain": [
       "customer_no          False\n",
       "est_hh_income        False\n",
       "age_imp              False\n",
       "len_residence_imp    False\n",
       "dtype: bool"
      ]
     },
     "execution_count": 339,
     "metadata": {},
     "output_type": "execute_result"
    }
   ],
   "source": [
    "a_manip.isna().any()"
   ]
  },
  {
   "cell_type": "markdown",
   "metadata": {},
   "source": [
    "## Merge DFs"
   ]
  },
  {
   "cell_type": "markdown",
   "metadata": {},
   "source": [
    "DFs = a_manip, t_fin, d_fin"
   ]
  },
  {
   "cell_type": "code",
   "execution_count": 446,
   "metadata": {},
   "outputs": [],
   "source": [
    "working_data = t_fin.merge(a_manip, on='customer_no', how='left')"
   ]
  },
  {
   "cell_type": "code",
   "execution_count": 447,
   "metadata": {},
   "outputs": [],
   "source": [
    "working_data = working_data.merge(d_fin[['summary_cust_id', \n",
    "                                         'per_year_giving', \n",
    "                                         'solicitor', \n",
    "                                         'donor']], on='summary_cust_id', how='left')"
   ]
  },
  {
   "cell_type": "code",
   "execution_count": 448,
   "metadata": {},
   "outputs": [],
   "source": [
    "working_data.dropna(subset=['age_imp'], inplace=True)"
   ]
  },
  {
   "cell_type": "markdown",
   "metadata": {},
   "source": [
    "Fill NAs from avg_paid, per_year_giving, solicitor, donor to 0"
   ]
  },
  {
   "cell_type": "code",
   "execution_count": 449,
   "metadata": {},
   "outputs": [],
   "source": [
    "working_data = working_data.fillna(0).reset_index(drop=True)"
   ]
  },
  {
   "cell_type": "code",
   "execution_count": 450,
   "metadata": {},
   "outputs": [],
   "source": [
    "working_data = working_data.loc[working_data['per_year_giving'] > 0]"
   ]
  },
  {
   "cell_type": "code",
   "execution_count": 468,
   "metadata": {},
   "outputs": [],
   "source": [
    "processed_df = pd.concat([working_data.drop(['summary_cust_id', 'customer_no', 'donor', 'est_hh_income'], axis=1), \n",
    "                          pd.get_dummies(working_data['est_hh_income'], prefix='hh_income')], \n",
    "                         axis=1).reset_index(drop=True)"
   ]
  },
  {
   "cell_type": "code",
   "execution_count": 469,
   "metadata": {},
   "outputs": [
    {
     "data": {
      "text/plain": [
       "(2726, 26)"
      ]
     },
     "execution_count": 469,
     "metadata": {},
     "output_type": "execute_result"
    }
   ],
   "source": [
    "processed_df.shape"
   ]
  },
  {
   "cell_type": "markdown",
   "metadata": {},
   "source": [
    "## Build Model"
   ]
  },
  {
   "cell_type": "code",
   "execution_count": 470,
   "metadata": {},
   "outputs": [],
   "source": [
    "processed_df['per_year_giving'] = processed_df['per_year_giving']"
   ]
  },
  {
   "cell_type": "code",
   "execution_count": 471,
   "metadata": {},
   "outputs": [],
   "source": [
    "annual_giving = processed_df['per_year_giving']\n",
    "features = processed_df.drop('per_year_giving', \n",
    "                             axis=1) # axis indicates a column (0 for row, 1 for column)\n",
    "\n",
    "X_train, X_test, y_train, y_test = train_test_split(features, annual_giving, \n",
    "                                                    test_size=0.2)"
   ]
  },
  {
   "cell_type": "markdown",
   "metadata": {},
   "source": [
    "Standard Scaler for features"
   ]
  },
  {
   "cell_type": "code",
   "execution_count": 472,
   "metadata": {},
   "outputs": [
    {
     "name": "stderr",
     "output_type": "stream",
     "text": [
      "C:\\Users\\bkessler\\AppData\\Local\\Continuum\\anaconda3\\lib\\site-packages\\sklearn\\preprocessing\\data.py:645: DataConversionWarning: Data with input dtype uint8, int64, float64, object were all converted to float64 by StandardScaler.\n",
      "  return self.partial_fit(X, y)\n",
      "C:\\Users\\bkessler\\AppData\\Local\\Continuum\\anaconda3\\lib\\site-packages\\sklearn\\base.py:464: DataConversionWarning: Data with input dtype uint8, int64, float64, object were all converted to float64 by StandardScaler.\n",
      "  return self.fit(X, **fit_params).transform(X)\n",
      "C:\\Users\\bkessler\\AppData\\Local\\Continuum\\anaconda3\\lib\\site-packages\\ipykernel_launcher.py:3: DataConversionWarning: Data with input dtype uint8, int64, float64, object were all converted to float64 by StandardScaler.\n",
      "  This is separate from the ipykernel package so we can avoid doing imports until\n"
     ]
    }
   ],
   "source": [
    "sc_X = StandardScaler()\n",
    "X_train = sc_X.fit_transform(X_train)\n",
    "X_test = sc_X.transform(X_test)"
   ]
  },
  {
   "cell_type": "code",
   "execution_count": 473,
   "metadata": {},
   "outputs": [
    {
     "data": {
      "text/plain": [
       "LinearRegression(copy_X=True, fit_intercept=True, n_jobs=None,\n",
       "         normalize=False)"
      ]
     },
     "execution_count": 473,
     "metadata": {},
     "output_type": "execute_result"
    }
   ],
   "source": [
    "regr = LinearRegression()\n",
    "regr.fit(X_train, y_train)"
   ]
  },
  {
   "cell_type": "code",
   "execution_count": 474,
   "metadata": {},
   "outputs": [
    {
     "name": "stdout",
     "output_type": "stream",
     "text": [
      "                            OLS Regression Results                            \n",
      "==============================================================================\n",
      "Dep. Variable:        per_year_giving   R-squared:                       0.182\n",
      "Model:                            OLS   Adj. R-squared:                  0.175\n",
      "Method:                 Least Squares   F-statistic:                     26.73\n",
      "Date:                Thu, 22 Aug 2019   Prob (F-statistic):           2.73e-81\n",
      "Time:                        13:38:38   Log-Likelihood:                -17861.\n",
      "No. Observations:                2180   AIC:                         3.576e+04\n",
      "Df Residuals:                    2162   BIC:                         3.586e+04\n",
      "Df Model:                          18                                         \n",
      "Covariance Type:            nonrobust                                         \n",
      "==============================================================================\n",
      "                 coef    std err          t      P>|t|      [0.025      0.975]\n",
      "------------------------------------------------------------------------------\n",
      "x1           -24.7717     61.894     -0.400      0.689    -146.150      96.606\n",
      "x2          1789.0328   7358.254      0.243      0.808   -1.26e+04    1.62e+04\n",
      "x3         -3079.2085   1.28e+04     -0.241      0.810   -2.82e+04     2.2e+04\n",
      "x4          -812.5880   3512.113     -0.231      0.817   -7700.059    6074.883\n",
      "x5          -537.3893   2077.255     -0.259      0.796   -4611.015    3536.237\n",
      "x6          -232.3727   2411.769     -0.096      0.923   -4962.001    4497.255\n",
      "const       7.043e-12   2.94e-11      0.239      0.811   -5.06e-11    6.47e-11\n",
      "x7         -2.394e-10      1e-09     -0.239      0.811   -2.21e-09    1.73e-09\n",
      "x8          -3.72e-10   1.56e-09     -0.239      0.811   -3.43e-09    2.68e-09\n",
      "x9         -1.181e-11   4.95e-11     -0.239      0.811   -1.09e-10    8.53e-11\n",
      "x10         2.454e-11   1.03e-10      0.239      0.811   -1.77e-10    2.26e-10\n",
      "x11         1789.0328   7358.254      0.243      0.808   -1.26e+04    1.62e+04\n",
      "x12          159.8316     19.330      8.269      0.000     121.925     197.738\n",
      "x13            6.8893     19.987      0.345      0.730     -32.306      46.085\n",
      "x14           12.9422     19.428      0.666      0.505     -25.158      51.042\n",
      "x15           69.5893     20.146      3.454      0.001      30.081     109.098\n",
      "x16           -6.1782     18.499     -0.334      0.738     -42.457      30.100\n",
      "x17          -11.2010     18.529     -0.605      0.546     -47.538      25.136\n",
      "x18          -17.8754     18.295     -0.977      0.329     -53.753      18.002\n",
      "x19           -7.7751     18.094     -0.430      0.667     -43.259      27.709\n",
      "x20           -0.8067     17.707     -0.046      0.964     -35.532      33.919\n",
      "x21            0.5361     15.269      0.035      0.972     -29.406      30.479\n",
      "x22          -17.5966     14.916     -1.180      0.238     -46.847      11.654\n",
      "x23            6.2137     16.293      0.381      0.703     -25.737      38.165\n",
      "x24           24.4382     13.688      1.785      0.074      -2.405      51.281\n",
      "==============================================================================\n",
      "Omnibus:                     4514.924   Durbin-Watson:                   2.026\n",
      "Prob(Omnibus):                  0.000   Jarque-Bera (JB):         19553178.602\n",
      "Skew:                          16.896   Prob(JB):                         0.00\n",
      "Kurtosis:                     465.734   Cond. No.                     6.17e+17\n",
      "==============================================================================\n",
      "\n",
      "Warnings:\n",
      "[1] Standard Errors assume that the covariance matrix of the errors is correctly specified.\n",
      "[2] The smallest eigenvalue is 2.49e-32. This might indicate that there are\n",
      "strong multicollinearity problems or that the design matrix is singular.\n"
     ]
    }
   ],
   "source": [
    "est = sm.OLS(y_train, X_train.astype(float)).fit()\n",
    "print(est.summary())"
   ]
  },
  {
   "cell_type": "code",
   "execution_count": null,
   "metadata": {},
   "outputs": [],
   "source": []
  },
  {
   "cell_type": "code",
   "execution_count": null,
   "metadata": {},
   "outputs": [],
   "source": []
  }
 ],
 "metadata": {
  "kernelspec": {
   "display_name": "Python 3",
   "language": "python",
   "name": "python3"
  },
  "language_info": {
   "codemirror_mode": {
    "name": "ipython",
    "version": 3
   },
   "file_extension": ".py",
   "mimetype": "text/x-python",
   "name": "python",
   "nbconvert_exporter": "python",
   "pygments_lexer": "ipython3",
   "version": "3.7.3"
  }
 },
 "nbformat": 4,
 "nbformat_minor": 2
}
